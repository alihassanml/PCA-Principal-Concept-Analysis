{
 "cells": [
  {
   "cell_type": "markdown",
   "id": "cdf27137-1a1f-4a79-b696-d9492a26a8f9",
   "metadata": {},
   "source": [
    "# **PCA Principle Concept Analysis**\n",
    "---\n",
    "Principal Component Analysis (PCA) is a dimensionality reduction technique used in machine learning. It transforms high-dimensional data into a lower-dimensional form while retaining as much variance as possible. PCA identifies the directions (principal components) along which the data varies the most and projects the data onto these components.\n",
    "\n",
    "### Main points about PCA:\n",
    "\n",
    "1. Dimensionality Reduction: Reduces the number of features while preserving essential information.\n",
    "2. Variance Maximization: Projects data onto directions that maximize variance.\n",
    "3. Orthogonal Components: The principal components are orthogonal (uncorrelated) to each other."
   ]
  },
  {
   "cell_type": "code",
   "execution_count": null,
   "id": "f5680e3a-cddd-436d-83a8-a6a6040b8eb4",
   "metadata": {},
   "outputs": [],
   "source": []
  },
  {
   "cell_type": "markdown",
   "id": "0c9b38f9-5d72-42c7-a54f-3eed28f35b13",
   "metadata": {},
   "source": [
    "### Why We use **PCA** ?\n",
    "\n",
    "When we have mulitple feature so we have multiple demension, so our model will be overfitted so we use PCA\n",
    "\n",
    "**Two Technique use to decrease Overfitting Problem**\n",
    "\n",
    "1. Feature Selection\n",
    "2. Feature Extraction that is **PCA**"
   ]
  },
  {
   "cell_type": "code",
   "execution_count": null,
   "id": "777ce2cc-a006-4650-8906-3ac2af7b3a88",
   "metadata": {},
   "outputs": [],
   "source": []
  },
  {
   "cell_type": "markdown",
   "id": "e3ef04af-218a-482d-b6d3-97d625e46218",
   "metadata": {},
   "source": [
    "### Feature Extraction | Demensionaly Reduction\n",
    "\n",
    "1. **Why Demension Reduction**?\n",
    "    1. Prevent Curve g demension\n",
    "    2. Improve the performance f the model\n",
    "    3. Visualize the data |   understand the data"
   ]
  },
  {
   "cell_type": "code",
   "execution_count": null,
   "id": "0f0864e7-902f-494d-9102-41969f0ec497",
   "metadata": {},
   "outputs": [],
   "source": [
    " "
   ]
  }
 ],
 "metadata": {
  "kernelspec": {
   "display_name": "Python 3 (ipykernel)",
   "language": "python",
   "name": "python3"
  },
  "language_info": {
   "codemirror_mode": {
    "name": "ipython",
    "version": 3
   },
   "file_extension": ".py",
   "mimetype": "text/x-python",
   "name": "python",
   "nbconvert_exporter": "python",
   "pygments_lexer": "ipython3",
   "version": "3.11.0"
  }
 },
 "nbformat": 4,
 "nbformat_minor": 5
}
